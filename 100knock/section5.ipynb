{
 "cells": [
  {
   "cell_type": "markdown",
   "metadata": {},
   "source": [
    "第5章: 係り受け解析  \n",
    "夏目漱石の小説『吾輩は猫である』の文章（neko.txt）をCaboChaを使って係り受け解析し，その結果をneko.txt.cabochaというファイルに保存せよ．このファイルを用いて，以下の問に対応するプログラムを実装せよ．  \n",
    "\n",
    "40． 係り受け解析結果の読み込み（形態素）  \n",
    "形態素を表すクラスMorphを実装せよ．このクラスは表層形（surface），基本形（base），品詞（pos），品詞細分類1（pos1）をメンバ変数に持つこととする．さらに，CaboChaの解析結果（neko.txt.cabocha）を読み込み，各文をMorphオブジェクトのリストとして表現し，3文目の形態素列を表示せよ．"
   ]
  },
  {
   "cell_type": "code",
   "execution_count": 1,
   "metadata": {},
   "outputs": [
    {
     "name": "stdout",
     "output_type": "stream",
     "text": [
      "<sentence>\n",
      " <chunk id=\"0\" link=\"2\" rel=\"D\" score=\"-1.727814\" head=\"0\" func=\"1\">\n",
      "  <tok id=\"0\" feature=\"名詞,副詞可能,*,*,*,*,今日,キョウ,キョー\">今日</tok>\n",
      "  <tok id=\"1\" feature=\"助詞,係助詞,*,*,*,*,は,ハ,ワ\">は</tok>\n",
      " </chunk>\n",
      " <chunk id=\"1\" link=\"2\" rel=\"D\" score=\"-1.727814\" head=\"2\" func=\"2\">\n",
      "  <tok id=\"2\" feature=\"名詞,副詞可能,*,*,*,*,たくさん,タクサン,タクサン\">たくさん</tok>\n",
      " </chunk>\n",
      " <chunk id=\"2\" link=\"-1\" rel=\"D\" score=\"0.000000\" head=\"3\" func=\"4\">\n",
      "  <tok id=\"3\" feature=\"動詞,自立,*,*,五段・カ行イ音便,連用タ接続,歩く,アルイ,アルイ\">歩い</tok>\n",
      "  <tok id=\"4\" feature=\"助動詞,*,*,*,特殊・タ,基本形,た,タ,タ\">た</tok>\n",
      "  <tok id=\"5\" feature=\"記号,句点,*,*,*,*,。,。,。\">。</tok>\n",
      " </chunk>\n",
      "</sentence>\n",
      "\n"
     ]
    }
   ],
   "source": [
    "import CaboCha\n",
    "\n",
    "targetStr = '今日はたくさん歩いた。'\n",
    "\n",
    "c = CaboCha.Parser()\n",
    "tree =  c.parse(targetStr)\n",
    "print(tree.toString(CaboCha.FORMAT_XML))\n"
   ]
  },
  {
   "cell_type": "code",
   "execution_count": 18,
   "metadata": {},
   "outputs": [
    {
     "name": "stdout",
     "output_type": "stream",
     "text": [
      "  % Total    % Received % Xferd  Average Speed   Time    Time     Time  Current\n",
      "                                 Dload  Upload   Total   Spent    Left  Speed\n",
      "100  943k  100  943k    0     0   160k      0  0:00:05  0:00:05 --:--:--  217k\n"
     ]
    }
   ],
   "source": [
    "!curl -LO http://www.cl.ecei.tohoku.ac.jp/nlp100/data/neko.txt"
   ]
  },
  {
   "cell_type": "code",
   "execution_count": 3,
   "metadata": {},
   "outputs": [],
   "source": [
    "def make_analyzed_file(input_file_name: str, output_file_name: str) -> None:\n",
    "    \"\"\"\n",
    "    プレーンな日本語の文章ファイルを係り受け解析してファイルに保存する.\n",
    "    (空白は削除します.)\n",
    "    :param input_file_name プレーンな日本語の文章ファイル名\n",
    "    :param output_file_name 係り受け解析済みの文章ファイル名\n",
    "    \"\"\"\n",
    "    c = CaboCha.Parser()\n",
    "    with open(input_file_name, encoding='utf-8') as input_file:\n",
    "        with open(output_file_name, mode='w', encoding='utf-8') as output_file:\n",
    "            for line in input_file:\n",
    "                tree = c.parse(line.lstrip())\n",
    "                output_file.write(tree.toString(CaboCha.FORMAT_LATTICE))\n",
    "\n",
    "\n",
    "make_analyzed_file('neko.txt', 'neko.txt.cabocha')\n"
   ]
  },
  {
   "cell_type": "code",
   "execution_count": 5,
   "metadata": {
    "collapsed": true
   },
   "outputs": [],
   "source": [
    "# このクラスは表層形（surface），基本形（base），品詞（pos），品詞細分類1（pos1）をメンバ変数に持つこととする．\n",
    "# さらに，CaboChaの解析結果（neko.txt.cabocha）を読み込み，各文をMorphオブジェクトのリストとして表現し，3文目の形態素列を表示せよ\n",
    "class Morph :\n",
    "    def __init__(self, surface, base, pos, pos1) :\n",
    "        self.surface = surface\n",
    "        self.base = base\n",
    "        self.pos = pos\n",
    "        self.pos1 = pos1\n",
    "    \n",
    "    def hoge() :\n",
    "        pass\n"
   ]
  },
  {
   "cell_type": "code",
   "execution_count": null,
   "metadata": {
    "collapsed": true
   },
   "outputs": [],
   "source": []
  }
 ],
 "metadata": {
  "kernelspec": {
   "display_name": "Python 3",
   "language": "python",
   "name": "python3"
  },
  "language_info": {
   "codemirror_mode": {
    "name": "ipython",
    "version": 3
   },
   "file_extension": ".py",
   "mimetype": "text/x-python",
   "name": "python",
   "nbconvert_exporter": "python",
   "pygments_lexer": "ipython3",
   "version": "3.6.5"
  }
 },
 "nbformat": 4,
 "nbformat_minor": 2
}
